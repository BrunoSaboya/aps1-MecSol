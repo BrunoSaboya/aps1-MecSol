{
 "cells": [
  {
   "cell_type": "markdown",
   "metadata": {},
   "source": [
    "## Grupo 11\n",
    "Integrantes:\n",
    "- Bruno Saobya\n",
    "- Esther Dagir\n",
    "- Lucca Barufatti\n",
    "- João Zsigmond"
   ]
  },
  {
   "cell_type": "code",
   "execution_count": 1,
   "metadata": {},
   "outputs": [],
   "source": [
    "import math\n",
    "import numpy as np\n",
    "import matplotlib.pyplot as plt"
   ]
  },
  {
   "cell_type": "markdown",
   "metadata": {},
   "source": [
    "## Questão 1"
   ]
  },
  {
   "cell_type": "code",
   "execution_count": 11,
   "metadata": {},
   "outputs": [],
   "source": [
    "'Inforções dadas a respeito das aleta'\n",
    "\n",
    "T_superficie = 100\n",
    "T_ambiente = 25\n",
    "raio = 12e-3\n",
    "comprimento = 168e-3\n",
    "\n",
    "h = 10\n",
    "k = 150"
   ]
  },
  {
   "cell_type": "markdown",
   "metadata": {},
   "source": [
    "### Cálculos"
   ]
  },
  {
   "cell_type": "code",
   "execution_count": 12,
   "metadata": {},
   "outputs": [],
   "source": [
    "diametro = raio * 2\n",
    "perimetro = math.pi * diametro\n",
    "area = (math.pi*diametro**2)/4\n",
    "\n",
    "difTemperature = T_superficie - T_ambiente\n",
    "m = math.sqrt((h*perimetro)/(k*area))\n",
    "coshMl = math.cosh(m*comprimento)\n",
    "sinhMl = math.sinh(m*comprimento)\n",
    "hMk = h/(m*k)\n",
    "distTemp = (math.cosh(0) + hMk*math.sinh(0))/(coshMl + hMk*sinhMl)\n",
    "\n",
    "TL = distTemp * difTemperature + T_ambiente"
   ]
  },
  {
   "cell_type": "markdown",
   "metadata": {},
   "source": [
    "### Grafico da temperatura"
   ]
  },
  {
   "cell_type": "code",
   "execution_count": 16,
   "metadata": {},
   "outputs": [
    {
     "data": {
      "image/png": "[encoded data removed]",
      "text/plain": [
       "<Figure size 432x288 with 1 Axes>"
      ]
     },
     "metadata": {
      "needs_background": "light"
     },
     "output_type": "display_data"
    },
    {
     "name": "stdout",
     "output_type": "stream",
     "text": [
      "Temperatura na extremidade da aleta: 88.95 °C\n"
     ]
    }
   ],
   "source": [
    "listaX = np.arange(0, comprimento+0.001, 1e-4)\n",
    "listaT = []\n",
    "\n",
    "for i in listaX:\n",
    "    dist_temp = (math.cosh(m*(comprimento - i)) + hMk*math.sinh(m*(comprimento - i)))/(math.cosh(m*comprimento) + hMk*math.sinh(m*comprimento))\n",
    "    T_novo = dist_temp* difTemperature + T_ambiente\n",
    "    listaT.append(T_novo)\n",
    "\n",
    "plt.plot(listaX, listaT)\n",
    "plt.title('Distribuição de temperatura na aleta')\n",
    "plt.xlabel('Comprimento da aleta (m)')\n",
    "plt.ylabel('Temperatura da aleta (°C)')\n",
    "plt.grid(True)\n",
    "plt.show()\n",
    "\n",
    "print(\"Temperatura na extremidade da aleta: {:.2f} °C\".format(TL))"
   ]
  },
  {
   "cell_type": "code",
   "execution_count": 22,
   "metadata": {},
   "outputs": [
    {
     "name": "stdout",
     "output_type": "stream",
     "text": [
      "Transferência de calor = 8.87 W\n"
     ]
    }
   ],
   "source": [
    "# Transferência de Calor\n",
    "\n",
    "M = math.sqrt(h * perimetro * k * area) * difTemperature\n",
    "q = M * (sinhMl + hMk * coshMl)/(coshMl + hMk * sinhMl)\n",
    "\n",
    "print(\"Transferência de calor = {:.2f} W\".format(q))"
   ]
  },
  {
   "cell_type": "code",
   "execution_count": 23,
   "metadata": {},
   "outputs": [
    {
     "name": "stdout",
     "output_type": "stream",
     "text": [
      "Eficiência = 90.12%\n"
     ]
    }
   ],
   "source": [
    "# Eficiência\n",
    "\n",
    "na = q/(h * (area + (2 * raio * math.pi * comprimento))*difTemperature)\n",
    "\n",
    "print(\"Eficiência = {:.2f}%\".format(na*100))"
   ]
  },
  {
   "cell_type": "code",
   "execution_count": 25,
   "metadata": {},
   "outputs": [
    {
     "name": "stdout",
     "output_type": "stream",
     "text": [
      "Efetividade: 26.13\n"
     ]
    }
   ],
   "source": [
    "# Efetividade\n",
    "\n",
    "ea = q/(h * (math.pi * raio**2) * difTemperature)\n",
    "\n",
    "print(\"Efetividade: {:.2f}\".format(ea))"
   ]
  },
  {
   "cell_type": "code",
   "execution_count": 26,
   "metadata": {},
   "outputs": [
    {
     "name": "stdout",
     "output_type": "stream",
     "text": [
      "O comprimento da aleta infinita deveria ser 0.32 metros\n"
     ]
    }
   ],
   "source": [
    "# Caso de aleta infinita\n",
    "\n",
    "x = (comprimento*M)/q\n",
    "\n",
    "print(\"O comprimento da aleta infinita deveria ser {:.2f} metros\".format(x))"
   ]
  },
  {
   "cell_type": "markdown",
   "metadata": {},
   "source": [
    "## Questão 2"
   ]
  },
  {
   "cell_type": "markdown",
   "metadata": {},
   "source": [
    "A taxa de transferencia de calor com o ambiente aumentaria conforme a área aumentasse."
   ]
  },
  {
   "cell_type": "markdown",
   "metadata": {},
   "source": [
    "A taxa de transferência de calor irá ter um aumento muito pequeno."
   ]
  }
 ],
 "metadata": {
  "interpreter": {
   "hash": "2be5faf79681da6f2a61fdfdd5405d65d042280f7fba6178067603e3a2925119"
  },
  "kernelspec": {
   "display_name": "Python 3.10.0 64-bit",
   "language": "python",
   "name": "python3"
  },
  "language_info": {
   "codemirror_mode": {
    "name": "ipython",
    "version": 3
   },
   "file_extension": ".py",
   "mimetype": "text/x-python",
   "name": "python",
   "nbconvert_exporter": "python",
   "pygments_lexer": "ipython3",
   "version": "3.10.0"
  },
  "orig_nbformat": 4
 },
 "nbformat": 4,
 "nbformat_minor": 2
}
